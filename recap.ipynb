{
 "cells": [
  {
   "cell_type": "markdown",
   "id": "6959c50c-5a97-44e9-a6a6-cbc343fa10b5",
   "metadata": {},
   "source": [
    "# CSV + API\n",
    "\n",
    "In this reboot, we are going to use:\n",
    "\n",
    "- The [Goodreads books](https://www.kaggle.com/jealousleopard/goodreadsbooks) dataset from Kaggle.\n",
    "- The [Open Library Books API](https://openlibrary.org/dev/docs/api/books)\n",
    "\n",
    "The goal of this livecode is to load the data from a CSV + loop over rows to enrich each row with information such as:\n",
    "\n",
    "- List of subjects (Science, Humor, Travel, etc.)\n",
    "- The cover URL of the book\n",
    "- Other information you'd find useful in the JSON API"
   ]
  },
  {
   "cell_type": "code",
   "execution_count": 66,
   "id": "af0c864a-7b90-4a56-b352-65e7c15ad8cd",
   "metadata": {},
   "outputs": [
    {
     "name": "stdout",
     "output_type": "stream",
     "text": [
      "  % Total    % Received % Xferd  Average Speed   Time    Time     Time  Current\n",
      "                                 Dload  Upload   Total   Spent    Left  Speed\n",
      "100 1509k  100 1509k    0     0  1558k      0 --:--:-- --:--:-- --:--:-- 1563k\n"
     ]
    }
   ],
   "source": [
    "!curl -L https://gist.githubusercontent.com/ssaunier/351b17f5a7a009808b60aeacd1f4a036/raw/books.csv > data/books.csv"
   ]
  },
  {
   "cell_type": "code",
   "execution_count": 69,
   "id": "ac6097e9-6fd8-465b-b341-7b75da555226",
   "metadata": {},
   "outputs": [],
   "source": [
    "import pandas as pd\n",
    "df = pd.read_csv('data/books.csv')"
   ]
  },
  {
   "cell_type": "code",
   "execution_count": 84,
   "id": "6c82f1ae-76ae-4a8c-8309-22880e8adb1d",
   "metadata": {},
   "outputs": [
    {
     "data": {
      "text/html": [
       "<div>\n",
       "<style scoped>\n",
       "    .dataframe tbody tr th:only-of-type {\n",
       "        vertical-align: middle;\n",
       "    }\n",
       "\n",
       "    .dataframe tbody tr th {\n",
       "        vertical-align: top;\n",
       "    }\n",
       "\n",
       "    .dataframe thead th {\n",
       "        text-align: right;\n",
       "    }\n",
       "</style>\n",
       "<table border=\"1\" class=\"dataframe\">\n",
       "  <thead>\n",
       "    <tr style=\"text-align: right;\">\n",
       "      <th></th>\n",
       "      <th>title</th>\n",
       "      <th>isbn13</th>\n",
       "    </tr>\n",
       "  </thead>\n",
       "  <tbody>\n",
       "    <tr>\n",
       "      <th>4578</th>\n",
       "      <td>Cromartie High School  Vol. 06</td>\n",
       "      <td>9781413902624</td>\n",
       "    </tr>\n",
       "    <tr>\n",
       "      <th>2540</th>\n",
       "      <td>Saint Joan/Major Barbara/Androcles and the Lion</td>\n",
       "      <td>9780394604800</td>\n",
       "    </tr>\n",
       "    <tr>\n",
       "      <th>5237</th>\n",
       "      <td>Strangers</td>\n",
       "      <td>9780425181119</td>\n",
       "    </tr>\n",
       "    <tr>\n",
       "      <th>12429</th>\n",
       "      <td>Paris: After the Liberation 1944-1949</td>\n",
       "      <td>9780142437926</td>\n",
       "    </tr>\n",
       "    <tr>\n",
       "      <th>6826</th>\n",
       "      <td>Sudden Fiction: American Short-Short Stories</td>\n",
       "      <td>9780879052652</td>\n",
       "    </tr>\n",
       "  </tbody>\n",
       "</table>\n",
       "</div>"
      ],
      "text/plain": [
       "                                                 title         isbn13\n",
       "4578                    Cromartie High School  Vol. 06  9781413902624\n",
       "2540   Saint Joan/Major Barbara/Androcles and the Lion  9780394604800\n",
       "5237                                         Strangers  9780425181119\n",
       "12429            Paris: After the Liberation 1944-1949  9780142437926\n",
       "6826      Sudden Fiction: American Short-Short Stories  9780879052652"
      ]
     },
     "execution_count": 84,
     "metadata": {},
     "output_type": "execute_result"
    }
   ],
   "source": [
    "df = df.sample(5)[['title','isbn13']]\n",
    "df"
   ]
  },
  {
   "cell_type": "code",
   "execution_count": 85,
   "id": "3ef55166-1bbf-49e2-8542-e9dc6eb1a4f3",
   "metadata": {
    "scrolled": true
   },
   "outputs": [],
   "source": [
    "import requests\n",
    "url = 'https://openlibrary.org/api/books?bibkeys=ISBN%3A9780141182674&format=json&jscmd=data'\n",
    "book_metadata = requests.get(url).json()"
   ]
  },
  {
   "cell_type": "code",
   "execution_count": 86,
   "id": "64c275a5-03bd-419f-9201-3d6bd630b628",
   "metadata": {
    "scrolled": true
   },
   "outputs": [
    {
     "data": {
      "text/plain": [
       "{'url': 'https://openlibrary.org/books/OL22464055M/On_the_Road',\n",
       " 'key': '/books/OL22464055M',\n",
       " 'title': 'On the Road',\n",
       " 'authors': [{'url': 'https://openlibrary.org/authors/OL21491A/Jack_Kerouac',\n",
       "   'name': 'Jack Kerouac'}],\n",
       " 'number_of_pages': 280,\n",
       " 'pagination': 'xxxii, 280 p. ;',\n",
       " 'by_statement': 'Jack Kerouac ; introduction by Ann Charters.',\n",
       " 'identifiers': {'librarything': ['3207'],\n",
       "  'goodreads': ['2552'],\n",
       "  'isbn_10': ['0141182679'],\n",
       "  'isbn_13': ['9780141182674'],\n",
       "  'openlibrary': ['OL22464055M']},\n",
       " 'classifications': {'lc_classifications': ['PS3521.E735 .O5 1991'],\n",
       "  'dewey_decimal_class': ['813/.54']},\n",
       " 'publishers': [{'name': 'Penguin Books'}],\n",
       " 'publish_places': [{'name': 'London'}, {'name': 'New York'}],\n",
       " 'publish_date': '2000',\n",
       " 'subjects': [{'name': 'Beat generation',\n",
       "   'url': 'https://openlibrary.org/subjects/beat_generation'},\n",
       "  {'name': 'Fiction', 'url': 'https://openlibrary.org/subjects/fiction'},\n",
       "  {'name': 'Autobiographical fiction',\n",
       "   'url': 'https://openlibrary.org/subjects/autobiographical_fiction'},\n",
       "  {'name': 'Beat generation in literature',\n",
       "   'url': 'https://openlibrary.org/subjects/beat_generation_in_literature'},\n",
       "  {'name': 'History and criticism',\n",
       "   'url': 'https://openlibrary.org/subjects/history_and_criticism'},\n",
       "  {'name': 'American Autobiographical fiction',\n",
       "   'url': 'https://openlibrary.org/subjects/american_autobiographical_fiction'},\n",
       "  {'name': 'Literature', 'url': 'https://openlibrary.org/subjects/literature'},\n",
       "  {'name': 'Classic Literature',\n",
       "   'url': 'https://openlibrary.org/subjects/classic_literature'},\n",
       "  {'name': 'Beat generation -- Fiction',\n",
       "   'url': 'https://openlibrary.org/subjects/beat_generation_--_fiction'},\n",
       "  {'name': 'Beats (Persons)',\n",
       "   'url': 'https://openlibrary.org/subjects/beats_(persons)'},\n",
       "  {'name': 'Bohemianism',\n",
       "   'url': 'https://openlibrary.org/subjects/bohemianism'},\n",
       "  {'name': 'Drugs', 'url': 'https://openlibrary.org/subjects/drugs'},\n",
       "  {'name': 'Jazz', 'url': 'https://openlibrary.org/subjects/jazz'},\n",
       "  {'name': 'Kerouac, Jack, 1922-1969',\n",
       "   'url': 'https://openlibrary.org/subjects/kerouac,_jack,_1922-1969'},\n",
       "  {'name': 'Literature - Classics / Criticism',\n",
       "   'url': 'https://openlibrary.org/subjects/literature_-_classics_/_criticism'},\n",
       "  {'name': 'Literature: Classics',\n",
       "   'url': 'https://openlibrary.org/subjects/literature:_classics'},\n",
       "  {'name': 'Classics', 'url': 'https://openlibrary.org/subjects/classics'},\n",
       "  {'name': 'Fiction / Literary',\n",
       "   'url': 'https://openlibrary.org/subjects/fiction_/_literary'},\n",
       "  {'name': 'Page proofs (Printing)',\n",
       "   'url': 'https://openlibrary.org/subjects/page_proofs_(printing)'},\n",
       "  {'name': 'Reading Level-Grade 11',\n",
       "   'url': 'https://openlibrary.org/subjects/reading_level-grade_11'},\n",
       "  {'name': 'Reading Level-Grade 10',\n",
       "   'url': 'https://openlibrary.org/subjects/reading_level-grade_10'},\n",
       "  {'name': 'Reading Level-Grade 12',\n",
       "   'url': 'https://openlibrary.org/subjects/reading_level-grade_12'},\n",
       "  {'name': 'NOVELAS ESTADOUNIDENSES',\n",
       "   'url': 'https://openlibrary.org/subjects/novelas_estadounidenses'},\n",
       "  {'name': 'American fiction (fictional works by one author)',\n",
       "   'url': 'https://openlibrary.org/subjects/american_fiction_(fictional_works_by_one_author)'},\n",
       "  {'name': 'English language',\n",
       "   'url': 'https://openlibrary.org/subjects/english_language'},\n",
       "  {'name': 'Study guides',\n",
       "   'url': 'https://openlibrary.org/subjects/study_guides'},\n",
       "  {'name': 'Examinations',\n",
       "   'url': 'https://openlibrary.org/subjects/examinations'},\n",
       "  {'name': 'Beats (Persons) in literature',\n",
       "   'url': 'https://openlibrary.org/subjects/beats_(persons)_in_literature'},\n",
       "  {'name': 'New York Times reviewed',\n",
       "   'url': 'https://openlibrary.org/subjects/new_york_times_reviewed'},\n",
       "  {'name': 'Criticism and interpretation',\n",
       "   'url': 'https://openlibrary.org/subjects/criticism_and_interpretation'},\n",
       "  {'name': 'On the road (Kerouac, Jack)',\n",
       "   'url': 'https://openlibrary.org/subjects/on_the_road_(kerouac,_jack)'},\n",
       "  {'name': 'Beatniks', 'url': 'https://openlibrary.org/subjects/beatniks'},\n",
       "  {'name': 'Romans, nouvelles',\n",
       "   'url': 'https://openlibrary.org/subjects/romans,_nouvelles'},\n",
       "  {'name': 'American fiction',\n",
       "   'url': 'https://openlibrary.org/subjects/american_fiction'},\n",
       "  {'name': 'Translations into Chinese',\n",
       "   'url': 'https://openlibrary.org/subjects/translations_into_chinese'},\n",
       "  {'name': 'American literature',\n",
       "   'url': 'https://openlibrary.org/subjects/american_literature'},\n",
       "  {'name': 'Literary', 'url': 'https://openlibrary.org/subjects/literary'},\n",
       "  {'name': 'Audio - Fiction - General',\n",
       "   'url': 'https://openlibrary.org/subjects/audio_-_fiction_-_general'},\n",
       "  {'name': 'Audio Adult: Books On Tape',\n",
       "   'url': 'https://openlibrary.org/subjects/audio_adult:_books_on_tape'},\n",
       "  {'name': 'General', 'url': 'https://openlibrary.org/subjects/general'}],\n",
       " 'subject_places': [{'name': 'United States',\n",
       "   'url': 'https://openlibrary.org/subjects/place:united_states'}],\n",
       " 'subject_people': [{'name': 'Jack Kerouac',\n",
       "   'url': 'https://openlibrary.org/subjects/person:jack_kerouac'},\n",
       "  {'name': 'Neal Casady',\n",
       "   'url': 'https://openlibrary.org/subjects/person:neal_casady'},\n",
       "  {'name': 'Jack Kerouac (1922-1969)',\n",
       "   'url': 'https://openlibrary.org/subjects/person:jack_kerouac_(1922-1969)'}],\n",
       " 'subject_times': [{'name': '1950s USA',\n",
       "   'url': 'https://openlibrary.org/subjects/time:1950s_usa'}],\n",
       " 'excerpts': [{'text': 'I first met Dean not long after my wife and I split up.',\n",
       "   'comment': '',\n",
       "   'first_sentence': True}],\n",
       " 'notes': 'Includes bibliographical references.',\n",
       " 'table_of_contents': [{'level': 0,\n",
       "   'label': 'Introduction by Ann Charters',\n",
       "   'title': 'vii',\n",
       "   'pagenum': ''},\n",
       "  {'level': 0,\n",
       "   'label': 'Suggestions for Further Reading',\n",
       "   'title': 'xxxi',\n",
       "   'pagenum': ''},\n",
       "  {'level': 0, 'label': 'On the Road', 'title': '1', 'pagenum': ''}],\n",
       " 'links': [{'title': 'New York Times review',\n",
       "   'url': 'http://www.nytimes.com/2007/08/19/books/review/Sante2-t-1.html'}],\n",
       " 'cover': {'small': 'https://covers.openlibrary.org/b/id/13133935-S.jpg',\n",
       "  'medium': 'https://covers.openlibrary.org/b/id/13133935-M.jpg',\n",
       "  'large': 'https://covers.openlibrary.org/b/id/13133935-L.jpg'}}"
      ]
     },
     "execution_count": 86,
     "metadata": {},
     "output_type": "execute_result"
    }
   ],
   "source": [
    "book_metadata['ISBN:9780141182674']"
   ]
  },
  {
   "cell_type": "code",
   "execution_count": 87,
   "id": "ecb22191-1d40-46b3-8845-dea5c91e5de5",
   "metadata": {},
   "outputs": [],
   "source": [
    "import json\n",
    "with open('book.json', 'w') as f:\n",
    "    json.dump(book_metadata, f)"
   ]
  },
  {
   "cell_type": "code",
   "execution_count": 88,
   "id": "5087bf4d-37a5-489d-97da-a7bb1bfeef68",
   "metadata": {},
   "outputs": [
    {
     "data": {
      "text/plain": [
       "dict_keys(['url', 'key', 'title', 'authors', 'number_of_pages', 'pagination', 'by_statement', 'identifiers', 'classifications', 'publishers', 'publish_places', 'publish_date', 'subjects', 'subject_places', 'subject_people', 'subject_times', 'excerpts', 'notes', 'table_of_contents', 'links', 'cover'])"
      ]
     },
     "execution_count": 88,
     "metadata": {},
     "output_type": "execute_result"
    }
   ],
   "source": [
    "book_metadata[\"ISBN:9780141182674\"].keys()"
   ]
  },
  {
   "cell_type": "code",
   "execution_count": 89,
   "id": "67b16690-b567-4015-9e19-855c0d73ce39",
   "metadata": {},
   "outputs": [
    {
     "data": {
      "text/plain": [
       "'https://covers.openlibrary.org/b/id/13133935-M.jpg'"
      ]
     },
     "execution_count": 89,
     "metadata": {},
     "output_type": "execute_result"
    }
   ],
   "source": [
    "book_metadata[\"ISBN:9780141182674\"]['cover']['medium']"
   ]
  },
  {
   "cell_type": "markdown",
   "id": "228fc901-a1cd-4500-a864-db718e05a31b",
   "metadata": {},
   "source": [
    "# API request"
   ]
  },
  {
   "cell_type": "code",
   "execution_count": 90,
   "id": "11d51ef8-9dac-41ac-bc98-3fcea2149c03",
   "metadata": {},
   "outputs": [],
   "source": [
    "def fetch_book(isbn13):\n",
    "    base_url = 'https://openlibrary.org/api/books'\n",
    "    params = {\n",
    "        'bibkeys' : f'ISBN:{isbn13}',\n",
    "        'format' : 'json',\n",
    "        'jscmd' : 'data'\n",
    "    }\n",
    "    return requests.get(url=base_url, params=params).json()"
   ]
  },
  {
   "cell_type": "code",
   "execution_count": 91,
   "id": "b849e4d5-17e0-44d8-b043-8a3209ba0159",
   "metadata": {
    "scrolled": true
   },
   "outputs": [
    {
     "data": {
      "text/plain": [
       "{'ISBN:9780141182674': {'url': 'https://openlibrary.org/books/OL22464055M/On_the_Road',\n",
       "  'key': '/books/OL22464055M',\n",
       "  'title': 'On the Road',\n",
       "  'authors': [{'url': 'https://openlibrary.org/authors/OL21491A/Jack_Kerouac',\n",
       "    'name': 'Jack Kerouac'}],\n",
       "  'number_of_pages': 280,\n",
       "  'pagination': 'xxxii, 280 p. ;',\n",
       "  'by_statement': 'Jack Kerouac ; introduction by Ann Charters.',\n",
       "  'identifiers': {'librarything': ['3207'],\n",
       "   'goodreads': ['2552'],\n",
       "   'isbn_10': ['0141182679'],\n",
       "   'isbn_13': ['9780141182674'],\n",
       "   'openlibrary': ['OL22464055M']},\n",
       "  'classifications': {'lc_classifications': ['PS3521.E735 .O5 1991'],\n",
       "   'dewey_decimal_class': ['813/.54']},\n",
       "  'publishers': [{'name': 'Penguin Books'}],\n",
       "  'publish_places': [{'name': 'London'}, {'name': 'New York'}],\n",
       "  'publish_date': '2000',\n",
       "  'subjects': [{'name': 'Beat generation',\n",
       "    'url': 'https://openlibrary.org/subjects/beat_generation'},\n",
       "   {'name': 'Fiction', 'url': 'https://openlibrary.org/subjects/fiction'},\n",
       "   {'name': 'Autobiographical fiction',\n",
       "    'url': 'https://openlibrary.org/subjects/autobiographical_fiction'},\n",
       "   {'name': 'Beat generation in literature',\n",
       "    'url': 'https://openlibrary.org/subjects/beat_generation_in_literature'},\n",
       "   {'name': 'History and criticism',\n",
       "    'url': 'https://openlibrary.org/subjects/history_and_criticism'},\n",
       "   {'name': 'American Autobiographical fiction',\n",
       "    'url': 'https://openlibrary.org/subjects/american_autobiographical_fiction'},\n",
       "   {'name': 'Literature',\n",
       "    'url': 'https://openlibrary.org/subjects/literature'},\n",
       "   {'name': 'Classic Literature',\n",
       "    'url': 'https://openlibrary.org/subjects/classic_literature'},\n",
       "   {'name': 'Beat generation -- Fiction',\n",
       "    'url': 'https://openlibrary.org/subjects/beat_generation_--_fiction'},\n",
       "   {'name': 'Beats (Persons)',\n",
       "    'url': 'https://openlibrary.org/subjects/beats_(persons)'},\n",
       "   {'name': 'Bohemianism',\n",
       "    'url': 'https://openlibrary.org/subjects/bohemianism'},\n",
       "   {'name': 'Drugs', 'url': 'https://openlibrary.org/subjects/drugs'},\n",
       "   {'name': 'Jazz', 'url': 'https://openlibrary.org/subjects/jazz'},\n",
       "   {'name': 'Kerouac, Jack, 1922-1969',\n",
       "    'url': 'https://openlibrary.org/subjects/kerouac,_jack,_1922-1969'},\n",
       "   {'name': 'Literature - Classics / Criticism',\n",
       "    'url': 'https://openlibrary.org/subjects/literature_-_classics_/_criticism'},\n",
       "   {'name': 'Literature: Classics',\n",
       "    'url': 'https://openlibrary.org/subjects/literature:_classics'},\n",
       "   {'name': 'Classics', 'url': 'https://openlibrary.org/subjects/classics'},\n",
       "   {'name': 'Fiction / Literary',\n",
       "    'url': 'https://openlibrary.org/subjects/fiction_/_literary'},\n",
       "   {'name': 'Page proofs (Printing)',\n",
       "    'url': 'https://openlibrary.org/subjects/page_proofs_(printing)'},\n",
       "   {'name': 'Reading Level-Grade 11',\n",
       "    'url': 'https://openlibrary.org/subjects/reading_level-grade_11'},\n",
       "   {'name': 'Reading Level-Grade 10',\n",
       "    'url': 'https://openlibrary.org/subjects/reading_level-grade_10'},\n",
       "   {'name': 'Reading Level-Grade 12',\n",
       "    'url': 'https://openlibrary.org/subjects/reading_level-grade_12'},\n",
       "   {'name': 'NOVELAS ESTADOUNIDENSES',\n",
       "    'url': 'https://openlibrary.org/subjects/novelas_estadounidenses'},\n",
       "   {'name': 'American fiction (fictional works by one author)',\n",
       "    'url': 'https://openlibrary.org/subjects/american_fiction_(fictional_works_by_one_author)'},\n",
       "   {'name': 'English language',\n",
       "    'url': 'https://openlibrary.org/subjects/english_language'},\n",
       "   {'name': 'Study guides',\n",
       "    'url': 'https://openlibrary.org/subjects/study_guides'},\n",
       "   {'name': 'Examinations',\n",
       "    'url': 'https://openlibrary.org/subjects/examinations'},\n",
       "   {'name': 'Beats (Persons) in literature',\n",
       "    'url': 'https://openlibrary.org/subjects/beats_(persons)_in_literature'},\n",
       "   {'name': 'New York Times reviewed',\n",
       "    'url': 'https://openlibrary.org/subjects/new_york_times_reviewed'},\n",
       "   {'name': 'Criticism and interpretation',\n",
       "    'url': 'https://openlibrary.org/subjects/criticism_and_interpretation'},\n",
       "   {'name': 'On the road (Kerouac, Jack)',\n",
       "    'url': 'https://openlibrary.org/subjects/on_the_road_(kerouac,_jack)'},\n",
       "   {'name': 'Beatniks', 'url': 'https://openlibrary.org/subjects/beatniks'},\n",
       "   {'name': 'Romans, nouvelles',\n",
       "    'url': 'https://openlibrary.org/subjects/romans,_nouvelles'},\n",
       "   {'name': 'American fiction',\n",
       "    'url': 'https://openlibrary.org/subjects/american_fiction'},\n",
       "   {'name': 'Translations into Chinese',\n",
       "    'url': 'https://openlibrary.org/subjects/translations_into_chinese'},\n",
       "   {'name': 'American literature',\n",
       "    'url': 'https://openlibrary.org/subjects/american_literature'},\n",
       "   {'name': 'Literary', 'url': 'https://openlibrary.org/subjects/literary'},\n",
       "   {'name': 'Audio - Fiction - General',\n",
       "    'url': 'https://openlibrary.org/subjects/audio_-_fiction_-_general'},\n",
       "   {'name': 'Audio Adult: Books On Tape',\n",
       "    'url': 'https://openlibrary.org/subjects/audio_adult:_books_on_tape'},\n",
       "   {'name': 'General', 'url': 'https://openlibrary.org/subjects/general'}],\n",
       "  'subject_places': [{'name': 'United States',\n",
       "    'url': 'https://openlibrary.org/subjects/place:united_states'}],\n",
       "  'subject_people': [{'name': 'Jack Kerouac',\n",
       "    'url': 'https://openlibrary.org/subjects/person:jack_kerouac'},\n",
       "   {'name': 'Neal Casady',\n",
       "    'url': 'https://openlibrary.org/subjects/person:neal_casady'},\n",
       "   {'name': 'Jack Kerouac (1922-1969)',\n",
       "    'url': 'https://openlibrary.org/subjects/person:jack_kerouac_(1922-1969)'}],\n",
       "  'subject_times': [{'name': '1950s USA',\n",
       "    'url': 'https://openlibrary.org/subjects/time:1950s_usa'}],\n",
       "  'excerpts': [{'text': 'I first met Dean not long after my wife and I split up.',\n",
       "    'comment': '',\n",
       "    'first_sentence': True}],\n",
       "  'notes': 'Includes bibliographical references.',\n",
       "  'table_of_contents': [{'level': 0,\n",
       "    'label': 'Introduction by Ann Charters',\n",
       "    'title': 'vii',\n",
       "    'pagenum': ''},\n",
       "   {'level': 0,\n",
       "    'label': 'Suggestions for Further Reading',\n",
       "    'title': 'xxxi',\n",
       "    'pagenum': ''},\n",
       "   {'level': 0, 'label': 'On the Road', 'title': '1', 'pagenum': ''}],\n",
       "  'links': [{'title': 'New York Times review',\n",
       "    'url': 'http://www.nytimes.com/2007/08/19/books/review/Sante2-t-1.html'}],\n",
       "  'cover': {'small': 'https://covers.openlibrary.org/b/id/13133935-S.jpg',\n",
       "   'medium': 'https://covers.openlibrary.org/b/id/13133935-M.jpg',\n",
       "   'large': 'https://covers.openlibrary.org/b/id/13133935-L.jpg'}}}"
      ]
     },
     "execution_count": 91,
     "metadata": {},
     "output_type": "execute_result"
    }
   ],
   "source": [
    "fetch_book(9780141182674)"
   ]
  },
  {
   "cell_type": "code",
   "execution_count": 92,
   "id": "fd50ea48-439d-4cf3-ad00-b303f41f021b",
   "metadata": {},
   "outputs": [],
   "source": [
    "def find_cover(book_json):\n",
    "    if isinstance(book_json, dict):\n",
    "        if book_json:\n",
    "            isbn = next(iter(book_json.keys()))\n",
    "            return book_json.get(isbn, {}).get('cover', {}).get('medium', {})\n",
    "        else:\n",
    "            return 'no book'"
   ]
  },
  {
   "cell_type": "code",
   "execution_count": 63,
   "id": "233c7f60-cf57-49e4-9267-d2e311d1ffa4",
   "metadata": {},
   "outputs": [
    {
     "data": {
      "text/plain": [
       "'https://covers.openlibrary.org/b/id/13133935-M.jpg'"
      ]
     },
     "execution_count": 63,
     "metadata": {},
     "output_type": "execute_result"
    }
   ],
   "source": [
    "find_cover(fetch_book(9780141182674))"
   ]
  },
  {
   "cell_type": "code",
   "execution_count": 127,
   "id": "942a813e-51a6-47dc-98df-0c4e56a7a942",
   "metadata": {},
   "outputs": [
    {
     "name": "stdout",
     "output_type": "stream",
     "text": [
      "📖fetching book: Sudden Fiction: American Short-Short Stories\n",
      "found cover with url https://covers.openlibrary.org/b/id/11723301-M.jpg\n"
     ]
    }
   ],
   "source": [
    "from IPython.display import clear_output\n",
    "\n",
    "df['cover'] = ''\n",
    "for index, row in df.iterrows():\n",
    "    print(f'📖fetching book: {row[\"title\"]}')\n",
    "    book_json = fetch_book(row['isbn13'])\n",
    "    cover_url = find_cover(book_json)\n",
    "    print(f'found cover with url {cover_url}')\n",
    "\n",
    "    df.loc[index, 'cover'] = cover_url if cover_url else 'not found'\n",
    "    clear_output(wait=True)\n"
   ]
  },
  {
   "cell_type": "code",
   "execution_count": 115,
   "id": "68970c08-f47d-447f-a964-9d2e7f895c79",
   "metadata": {},
   "outputs": [],
   "source": [
    "df['cover'] = df['isbn13'].map(fetch_book).map(find_cover)"
   ]
  },
  {
   "cell_type": "code",
   "execution_count": 125,
   "id": "55b498f7-1bc9-4b6e-b7af-e6c08238f291",
   "metadata": {},
   "outputs": [
    {
     "data": {
      "text/plain": [
       "12429"
      ]
     },
     "execution_count": 125,
     "metadata": {},
     "output_type": "execute_result"
    }
   ],
   "source": [
    "index"
   ]
  },
  {
   "cell_type": "code",
   "execution_count": 128,
   "id": "98a6e100-9819-4963-a33a-316a9feec36a",
   "metadata": {},
   "outputs": [
    {
     "data": {
      "text/html": [
       "<div>\n",
       "<style scoped>\n",
       "    .dataframe tbody tr th:only-of-type {\n",
       "        vertical-align: middle;\n",
       "    }\n",
       "\n",
       "    .dataframe tbody tr th {\n",
       "        vertical-align: top;\n",
       "    }\n",
       "\n",
       "    .dataframe thead th {\n",
       "        text-align: right;\n",
       "    }\n",
       "</style>\n",
       "<table border=\"1\" class=\"dataframe\">\n",
       "  <thead>\n",
       "    <tr style=\"text-align: right;\">\n",
       "      <th></th>\n",
       "      <th>title</th>\n",
       "      <th>isbn13</th>\n",
       "      <th>cover</th>\n",
       "    </tr>\n",
       "  </thead>\n",
       "  <tbody>\n",
       "    <tr>\n",
       "      <th>4578</th>\n",
       "      <td>Cromartie High School  Vol. 06</td>\n",
       "      <td>9781413902624</td>\n",
       "      <td>https://covers.openlibrary.org/b/id/758686-M.jpg</td>\n",
       "    </tr>\n",
       "    <tr>\n",
       "      <th>2540</th>\n",
       "      <td>Saint Joan/Major Barbara/Androcles and the Lion</td>\n",
       "      <td>9780394604800</td>\n",
       "      <td>https://covers.openlibrary.org/b/id/10516535-M...</td>\n",
       "    </tr>\n",
       "    <tr>\n",
       "      <th>5237</th>\n",
       "      <td>Strangers</td>\n",
       "      <td>9780425181119</td>\n",
       "      <td>https://covers.openlibrary.org/b/id/12884728-M...</td>\n",
       "    </tr>\n",
       "    <tr>\n",
       "      <th>12429</th>\n",
       "      <td>Paris: After the Liberation 1944-1949</td>\n",
       "      <td>9780142437926</td>\n",
       "      <td>not found</td>\n",
       "    </tr>\n",
       "    <tr>\n",
       "      <th>6826</th>\n",
       "      <td>Sudden Fiction: American Short-Short Stories</td>\n",
       "      <td>9780879052652</td>\n",
       "      <td>https://covers.openlibrary.org/b/id/11723301-M...</td>\n",
       "    </tr>\n",
       "  </tbody>\n",
       "</table>\n",
       "</div>"
      ],
      "text/plain": [
       "                                                 title         isbn13  \\\n",
       "4578                    Cromartie High School  Vol. 06  9781413902624   \n",
       "2540   Saint Joan/Major Barbara/Androcles and the Lion  9780394604800   \n",
       "5237                                         Strangers  9780425181119   \n",
       "12429            Paris: After the Liberation 1944-1949  9780142437926   \n",
       "6826      Sudden Fiction: American Short-Short Stories  9780879052652   \n",
       "\n",
       "                                                   cover  \n",
       "4578    https://covers.openlibrary.org/b/id/758686-M.jpg  \n",
       "2540   https://covers.openlibrary.org/b/id/10516535-M...  \n",
       "5237   https://covers.openlibrary.org/b/id/12884728-M...  \n",
       "12429                                          not found  \n",
       "6826   https://covers.openlibrary.org/b/id/11723301-M...  "
      ]
     },
     "execution_count": 128,
     "metadata": {},
     "output_type": "execute_result"
    }
   ],
   "source": [
    "df"
   ]
  },
  {
   "cell_type": "code",
   "execution_count": 101,
   "id": "a0df55bf-364f-4dad-ba03-85d1141f0b89",
   "metadata": {},
   "outputs": [
    {
     "data": {
      "text/html": [
       "<img src=\"https://covers.openlibrary.org/b/id/13133935-M.jpg\"/>"
      ],
      "text/plain": [
       "<IPython.core.display.Image object>"
      ]
     },
     "execution_count": 101,
     "metadata": {},
     "output_type": "execute_result"
    }
   ],
   "source": [
    "from IPython.display import Image\n",
    "Image(url='https://covers.openlibrary.org/b/id/13133935-M.jpg')"
   ]
  },
  {
   "cell_type": "markdown",
   "id": "4e3c01c9-4262-453f-b514-b8bcf564b1d3",
   "metadata": {},
   "source": [
    "# multiple isbn at a time"
   ]
  },
  {
   "cell_type": "code",
   "execution_count": 77,
   "id": "0127e6be-d9d4-462c-868e-33caaa2186dd",
   "metadata": {},
   "outputs": [
    {
     "data": {
      "text/plain": [
       "3"
      ]
     },
     "execution_count": 77,
     "metadata": {},
     "output_type": "execute_result"
    }
   ],
   "source": [
    "url = 'https://openlibrary.org/api/books?bibkeys=ISBN:9780439785969,ISBN:9780439554893,ISBN:9780976540601&format=json&jscmd=data'\n",
    "len(requests.get(url).json())"
   ]
  },
  {
   "cell_type": "code",
   "execution_count": 142,
   "id": "15ea1e6d-02b5-4b0e-ad63-9ac6e96a6898",
   "metadata": {
    "scrolled": true
   },
   "outputs": [
    {
     "data": {
      "text/plain": [
       "[9781413902624, 9780394604800, 9780425181119, 9780142437926, 9780879052652]"
      ]
     },
     "execution_count": 142,
     "metadata": {},
     "output_type": "execute_result"
    }
   ],
   "source": [
    "list(df['isbn13'])"
   ]
  },
  {
   "cell_type": "code",
   "execution_count": 140,
   "id": "3987f42e-a600-4b67-97ce-05dd12401581",
   "metadata": {},
   "outputs": [
    {
     "data": {
      "text/plain": [
       "'ISBN:9781413902624,ISBN:9780394604800,ISBN:9780425181119,ISBN:9780142437926,ISBN:9780879052652'"
      ]
     },
     "execution_count": 140,
     "metadata": {},
     "output_type": "execute_result"
    }
   ],
   "source": [
    "(',').join(f'ISBN:{isbn}' for isbn in list(df['isbn13']))"
   ]
  },
  {
   "cell_type": "code",
   "execution_count": 141,
   "id": "d16a0ec2-81d4-45ff-9fa9-0dd1fb507a67",
   "metadata": {},
   "outputs": [],
   "source": [
    "def fetch_multiple_books(isbn13_list):\n",
    "    base_url = 'https://openlibrary.org/api/books'\n",
    "    isbn13_list_str = (',').join(f'ISBN:{isbn}' for isbn in isbn13_list)\n",
    "    params = {\n",
    "        'bibkeys' : isbn13_list_str,\n",
    "        'format' : 'json',\n",
    "        'jscmd' : 'data'\n",
    "    }\n",
    "    return requests.get(url=base_url, params=params).json()"
   ]
  },
  {
   "cell_type": "code",
   "execution_count": 144,
   "id": "62800837-124c-49e1-997d-565ca413f281",
   "metadata": {},
   "outputs": [],
   "source": [
    "books = fetch_multiple_books(list(df['isbn13']))"
   ]
  },
  {
   "cell_type": "code",
   "execution_count": 146,
   "id": "a2d2fd42-8cba-4839-b300-177b110ef585",
   "metadata": {},
   "outputs": [
    {
     "data": {
      "text/plain": [
       "5"
      ]
     },
     "execution_count": 146,
     "metadata": {},
     "output_type": "execute_result"
    }
   ],
   "source": [
    "len(books)"
   ]
  },
  {
   "cell_type": "code",
   "execution_count": 163,
   "id": "8f152703-c244-4b9e-96fe-6fe4efedaa2f",
   "metadata": {},
   "outputs": [],
   "source": [
    "import numpy as np\n",
    "for df_slice in np.array_split(df, 2):\n",
    "    books = fetch_multiple_books(list(df_slice['isbn13']))\n",
    "\n",
    "    for book in books:\n",
    "        image_url = books.get(book, {}).get('cover', {}).get('medium', {})\n",
    "        df.loc[df['isbn13'] == int(book.strip('ISBN:')),'cover_url'] = image_url"
   ]
  },
  {
   "cell_type": "code",
   "execution_count": 154,
   "id": "3c390acf-0523-497c-85e0-7d0109a5fd08",
   "metadata": {},
   "outputs": [
    {
     "data": {
      "text/html": [
       "<div>\n",
       "<style scoped>\n",
       "    .dataframe tbody tr th:only-of-type {\n",
       "        vertical-align: middle;\n",
       "    }\n",
       "\n",
       "    .dataframe tbody tr th {\n",
       "        vertical-align: top;\n",
       "    }\n",
       "\n",
       "    .dataframe thead th {\n",
       "        text-align: right;\n",
       "    }\n",
       "</style>\n",
       "<table border=\"1\" class=\"dataframe\">\n",
       "  <thead>\n",
       "    <tr style=\"text-align: right;\">\n",
       "      <th></th>\n",
       "      <th>title</th>\n",
       "      <th>isbn13</th>\n",
       "      <th>cover</th>\n",
       "    </tr>\n",
       "  </thead>\n",
       "  <tbody>\n",
       "    <tr>\n",
       "      <th>12429</th>\n",
       "      <td>Paris: After the Liberation 1944-1949</td>\n",
       "      <td>9780142437926</td>\n",
       "      <td>not found</td>\n",
       "    </tr>\n",
       "    <tr>\n",
       "      <th>6826</th>\n",
       "      <td>Sudden Fiction: American Short-Short Stories</td>\n",
       "      <td>9780879052652</td>\n",
       "      <td>https://covers.openlibrary.org/b/id/11723301-M...</td>\n",
       "    </tr>\n",
       "  </tbody>\n",
       "</table>\n",
       "</div>"
      ],
      "text/plain": [
       "                                              title         isbn13  \\\n",
       "12429         Paris: After the Liberation 1944-1949  9780142437926   \n",
       "6826   Sudden Fiction: American Short-Short Stories  9780879052652   \n",
       "\n",
       "                                                   cover  \n",
       "12429                                          not found  \n",
       "6826   https://covers.openlibrary.org/b/id/11723301-M...  "
      ]
     },
     "execution_count": 154,
     "metadata": {},
     "output_type": "execute_result"
    }
   ],
   "source": [
    "df_slice"
   ]
  },
  {
   "cell_type": "code",
   "execution_count": 156,
   "id": "55b310fd-f667-4682-a78e-3e22f7be7963",
   "metadata": {
    "scrolled": true
   },
   "outputs": [
    {
     "data": {
      "text/plain": [
       "2"
      ]
     },
     "execution_count": 156,
     "metadata": {},
     "output_type": "execute_result"
    }
   ],
   "source": [
    "len(books)"
   ]
  },
  {
   "cell_type": "code",
   "execution_count": 164,
   "id": "8648b6d7-126d-45c6-bdb3-5e0706fb9e6c",
   "metadata": {},
   "outputs": [
    {
     "data": {
      "text/html": [
       "<div>\n",
       "<style scoped>\n",
       "    .dataframe tbody tr th:only-of-type {\n",
       "        vertical-align: middle;\n",
       "    }\n",
       "\n",
       "    .dataframe tbody tr th {\n",
       "        vertical-align: top;\n",
       "    }\n",
       "\n",
       "    .dataframe thead th {\n",
       "        text-align: right;\n",
       "    }\n",
       "</style>\n",
       "<table border=\"1\" class=\"dataframe\">\n",
       "  <thead>\n",
       "    <tr style=\"text-align: right;\">\n",
       "      <th></th>\n",
       "      <th>title</th>\n",
       "      <th>isbn13</th>\n",
       "      <th>cover</th>\n",
       "      <th>cover_url</th>\n",
       "    </tr>\n",
       "  </thead>\n",
       "  <tbody>\n",
       "    <tr>\n",
       "      <th>4578</th>\n",
       "      <td>Cromartie High School  Vol. 06</td>\n",
       "      <td>9781413902624</td>\n",
       "      <td>https://covers.openlibrary.org/b/id/758686-M.jpg</td>\n",
       "      <td>https://covers.openlibrary.org/b/id/758686-M.jpg</td>\n",
       "    </tr>\n",
       "    <tr>\n",
       "      <th>2540</th>\n",
       "      <td>Saint Joan/Major Barbara/Androcles and the Lion</td>\n",
       "      <td>9780394604800</td>\n",
       "      <td>https://covers.openlibrary.org/b/id/10516535-M...</td>\n",
       "      <td>https://covers.openlibrary.org/b/id/10516535-M...</td>\n",
       "    </tr>\n",
       "    <tr>\n",
       "      <th>5237</th>\n",
       "      <td>Strangers</td>\n",
       "      <td>9780425181119</td>\n",
       "      <td>https://covers.openlibrary.org/b/id/12884728-M...</td>\n",
       "      <td>https://covers.openlibrary.org/b/id/12884728-M...</td>\n",
       "    </tr>\n",
       "    <tr>\n",
       "      <th>12429</th>\n",
       "      <td>Paris: After the Liberation 1944-1949</td>\n",
       "      <td>9780142437926</td>\n",
       "      <td>not found</td>\n",
       "      <td>NaN</td>\n",
       "    </tr>\n",
       "    <tr>\n",
       "      <th>6826</th>\n",
       "      <td>Sudden Fiction: American Short-Short Stories</td>\n",
       "      <td>9780879052652</td>\n",
       "      <td>https://covers.openlibrary.org/b/id/11723301-M...</td>\n",
       "      <td>https://covers.openlibrary.org/b/id/11723301-M...</td>\n",
       "    </tr>\n",
       "  </tbody>\n",
       "</table>\n",
       "</div>"
      ],
      "text/plain": [
       "                                                 title         isbn13  \\\n",
       "4578                    Cromartie High School  Vol. 06  9781413902624   \n",
       "2540   Saint Joan/Major Barbara/Androcles and the Lion  9780394604800   \n",
       "5237                                         Strangers  9780425181119   \n",
       "12429            Paris: After the Liberation 1944-1949  9780142437926   \n",
       "6826      Sudden Fiction: American Short-Short Stories  9780879052652   \n",
       "\n",
       "                                                   cover  \\\n",
       "4578    https://covers.openlibrary.org/b/id/758686-M.jpg   \n",
       "2540   https://covers.openlibrary.org/b/id/10516535-M...   \n",
       "5237   https://covers.openlibrary.org/b/id/12884728-M...   \n",
       "12429                                          not found   \n",
       "6826   https://covers.openlibrary.org/b/id/11723301-M...   \n",
       "\n",
       "                                               cover_url  \n",
       "4578    https://covers.openlibrary.org/b/id/758686-M.jpg  \n",
       "2540   https://covers.openlibrary.org/b/id/10516535-M...  \n",
       "5237   https://covers.openlibrary.org/b/id/12884728-M...  \n",
       "12429                                                NaN  \n",
       "6826   https://covers.openlibrary.org/b/id/11723301-M...  "
      ]
     },
     "execution_count": 164,
     "metadata": {},
     "output_type": "execute_result"
    }
   ],
   "source": [
    "df"
   ]
  }
 ],
 "metadata": {
  "kernelspec": {
   "display_name": "Python 3 (ipykernel)",
   "language": "python",
   "name": "python3"
  },
  "language_info": {
   "codemirror_mode": {
    "name": "ipython",
    "version": 3
   },
   "file_extension": ".py",
   "mimetype": "text/x-python",
   "name": "python",
   "nbconvert_exporter": "python",
   "pygments_lexer": "ipython3",
   "version": "3.10.6"
  }
 },
 "nbformat": 4,
 "nbformat_minor": 5
}
